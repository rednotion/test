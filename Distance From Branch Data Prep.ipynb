{
 "cells": [
  {
   "cell_type": "markdown",
   "metadata": {},
   "source": [
    "# LC Distance from Branch: Data Prep\n",
    "\n",
    "**Last Updated**: 3 August\n",
    "\n",
    "1. Load & Merge Data\n",
    "2. Fix Wrong/Outlier Distances (includes API call with R)\n",
    "3. Bucket Distances\n",
    "4. Export to CSV"
   ]
  },
  {
   "cell_type": "code",
   "execution_count": 1,
   "metadata": {},
   "outputs": [],
   "source": [
    "import pandas as pd\n",
    "import numpy as np\n",
    "import matplotlib.pyplot as plt\n",
    "import seaborn as sns\n",
    "%matplotlib inline  "
   ]
  },
  {
   "cell_type": "markdown",
   "metadata": {},
   "source": [
    "## 1. Load & Merge Data"
   ]
  },
  {
   "cell_type": "markdown",
   "metadata": {},
   "source": [
    "- During SQL pull, kept only observations with model tier not null\n",
    "- All mailings start in **Jan 2017** for all states except **Texas**, which starts in July.\n",
    "- All mailings in this dataset end in **June 2018**"
   ]
  },
  {
   "cell_type": "code",
   "execution_count": 4,
   "metadata": {},
   "outputs": [],
   "source": [
    "data = pd.read_csv(\"./Data/sql_allchecks_2017_notnull_modeltier.csv\",\n",
    "                  header = None,\n",
    "                  names = ['cashed', 'casheddollars', 'issuedate', 'amountfinanced', \n",
    "                          'branchid', 'contrid', 'namesid', 'newacct', 'newcontr', 'account',\n",
    "                          'city', 'state', 'zipcode', 'grade',\n",
    "                          'beacon', 'ownorrent', 'singleorjoint', 'modeltier'], \n",
    "                   low_memory = False)\n",
    "\n",
    "data.cashed = data.cashed.fillna(0)\n",
    "data.casheddollars = data.casheddollars.fillna(0)\n",
    "data.ownorrent = data.ownorrent.str.upper()\n",
    "data.grade = data.grade.str.upper()\n",
    "\n",
    "data = data.assign(beaconbucket = pd.cut(data.beacon, \n",
    "                                    bins = [-1,300, 600,650,700,750,800,851],\n",
    "                                    labels = ['Beacon < 300',\n",
    "                                             'Beacon 300-599',\n",
    "                                             'Beacon 600-649',\n",
    "                                             'Beacon 650-699',\n",
    "                                             'Beacon 700-749',\n",
    "                                             'Beacon 750-799',\n",
    "                                             'Beacon 800-850']))\n",
    "\n",
    "# data.groupby('state').issuedate.min()\n",
    "# data.groupby('state').issuedate.max()"
   ]
  },
  {
   "cell_type": "code",
   "execution_count": 5,
   "metadata": {},
   "outputs": [
    {
     "data": {
      "text/plain": [
       "(17645848, 20)"
      ]
     },
     "execution_count": 5,
     "metadata": {},
     "output_type": "execute_result"
    }
   ],
   "source": [
    "# Load distance from branch data from RF database\n",
    "distdata = pd.read_csv(\"./Data/sqleverything_distancefromBR.csv\", \n",
    "                       header = None,\n",
    "                       names = ['state', 'branchid', 'zipcode', 'city', 'distbr'])\n",
    "distdata.zipcode = pd.to_numeric(distdata.zipcode, errors=\"coerce\")\n",
    "\n",
    "# Attach to main data\n",
    "full = pd.merge(data, distdata, how = \"left\", on = ['state', 'branchid', 'city', 'zipcode'])\n",
    "full.shape"
   ]
  },
  {
   "cell_type": "markdown",
   "metadata": {},
   "source": [
    "**`trunc` dataframe: keep only observations WITH distance information**"
   ]
  },
  {
   "cell_type": "code",
   "execution_count": 6,
   "metadata": {},
   "outputs": [
    {
     "data": {
      "text/plain": [
       "3115758"
      ]
     },
     "execution_count": 6,
     "metadata": {},
     "output_type": "execute_result"
    }
   ],
   "source": [
    "trunc = full[pd.notnull(full.distbr)].copy()\n",
    "\n",
    "# Number of missing observations\n",
    "full.shape[0] - trunc.shape[0]"
   ]
  },
  {
   "cell_type": "markdown",
   "metadata": {},
   "source": [
    "## 2. Fix Distances"
   ]
  },
  {
   "cell_type": "markdown",
   "metadata": {},
   "source": [
    "### A) Outliers \n",
    "**Distance entered wrongly** for branch 116 with zipcode `37814`. Distance was recorded as over 2000 miles. Distance between branch and residential zipcode `37722` = **29.42** miles. Replace this value in the data."
   ]
  },
  {
   "cell_type": "code",
   "execution_count": 7,
   "metadata": {},
   "outputs": [],
   "source": [
    "# trunc.loc[trunc.distbr > 2000][['branchid', 'zipcode']].drop_duplicates()\n",
    "trunc.loc[trunc['distbr'] > 2000, 'distbr'] = 29.42"
   ]
  },
  {
   "cell_type": "markdown",
   "metadata": {},
   "source": [
    "### B) False 0 distances\n",
    "- In general, most of the NON-ZERO distances from branch seem accurate (checked by hand).\n",
    "- However, many zipcodes have '0' for distance when they are not (We should only have 0 distance when the customer and branch are in the same zipcode)\n",
    "- Here I fix the 0s in the smaller dataset `trunc` for our analysis, rather than the overall dataframe since it'll be too many addresses for a free API call.\n",
    "\n",
    "**Prepare csv of all zipcodes to run API call with**:"
   ]
  },
  {
   "cell_type": "code",
   "execution_count": 11,
   "metadata": {},
   "outputs": [],
   "source": [
    "branches = pd.read_csv(\"./Data/branch_details_short.csv\", header = None,\n",
    "                      names = ['branchid', 'brst', 'brzip'])\n",
    "\n",
    "# Convert zipcodes to numeric to match other dataset\n",
    "branches.brzip = pd.to_numeric(branches.brzip.str.slice(0, 5), errors = 'coerce')\n",
    "\n",
    "# Remove those with no branch zipcode\n",
    "# branches.loc[pd.isnull(branches.brzip)]\n",
    "branches = branches.dropna()\n",
    "\n",
    "# Select all those with distance = 0\n",
    "# Remove observations where the branch zipcode is same as the target zipcode (will definitely be 0)\n",
    "tofix = pd.merge(\n",
    "    trunc.loc[(trunc.distbr == 0)][['branchid', 'zipcode', 'distbr']].drop_duplicates(),\n",
    "    branches[['branchid', 'brzip']],\n",
    "    how = 'left',\n",
    "    on = 'branchid')\n",
    "tofix = tofix.loc[tofix.zipcode != tofix.brzip]\n",
    "\n",
    "##################################\n",
    "# Export to CSV to call APIs in R\n",
    "##################################\n",
    "\n",
    "#tofix.to_csv(\"./Data/zipcodes_tofix.csv\")"
   ]
  },
  {
   "cell_type": "markdown",
   "metadata": {},
   "source": [
    "**Run an API Call to find new distances**\n",
    "\n",
    "- `zip_codes_tofix.csv` was fed into R to do the API calls through Zip-codes.com \n",
    "- See `fix_distances_apicall.R` for documentation\n",
    "- Resulting csv was `fixed_dist_19june.csv`\n",
    "\n",
    "**Replace new distfrombr values back into `trunc` table**\n",
    "\n",
    "- Add new values in as `newdist`\n",
    "- Rename old distbr column as `originalbr`\n",
    "- Add both together (since the originals would have been 0 anyway) to form the modified `distbr`"
   ]
  },
  {
   "cell_type": "code",
   "execution_count": 20,
   "metadata": {},
   "outputs": [
    {
     "data": {
      "text/html": [
       "<div>\n",
       "<style scoped>\n",
       "    .dataframe tbody tr th:only-of-type {\n",
       "        vertical-align: middle;\n",
       "    }\n",
       "\n",
       "    .dataframe tbody tr th {\n",
       "        vertical-align: top;\n",
       "    }\n",
       "\n",
       "    .dataframe thead th {\n",
       "        text-align: right;\n",
       "    }\n",
       "</style>\n",
       "<table border=\"1\" class=\"dataframe\">\n",
       "  <thead>\n",
       "    <tr style=\"text-align: right;\">\n",
       "      <th></th>\n",
       "      <th>cashed</th>\n",
       "      <th>casheddollars</th>\n",
       "      <th>issuedate</th>\n",
       "      <th>amountfinanced</th>\n",
       "      <th>branchid</th>\n",
       "      <th>contrid</th>\n",
       "      <th>namesid</th>\n",
       "      <th>newacct</th>\n",
       "      <th>newcontr</th>\n",
       "      <th>account</th>\n",
       "      <th>...</th>\n",
       "      <th>zipcode</th>\n",
       "      <th>grade</th>\n",
       "      <th>beacon</th>\n",
       "      <th>ownorrent</th>\n",
       "      <th>singleorjoint</th>\n",
       "      <th>modeltier</th>\n",
       "      <th>beaconbucket</th>\n",
       "      <th>originalbr</th>\n",
       "      <th>newdist</th>\n",
       "      <th>distbr</th>\n",
       "    </tr>\n",
       "  </thead>\n",
       "  <tbody>\n",
       "    <tr>\n",
       "      <th>0</th>\n",
       "      <td>1.0</td>\n",
       "      <td>5055.95</td>\n",
       "      <td>2018-03-30 00:00:00.000</td>\n",
       "      <td>5055.95</td>\n",
       "      <td>103</td>\n",
       "      <td>NaN</td>\n",
       "      <td>NaN</td>\n",
       "      <td>NaN</td>\n",
       "      <td>NaN</td>\n",
       "      <td>NaN</td>\n",
       "      <td>...</td>\n",
       "      <td>39759</td>\n",
       "      <td>A</td>\n",
       "      <td>678</td>\n",
       "      <td>O</td>\n",
       "      <td>J</td>\n",
       "      <td>0.5</td>\n",
       "      <td>Beacon 650-699</td>\n",
       "      <td>0.00</td>\n",
       "      <td>0.0</td>\n",
       "      <td>0.00</td>\n",
       "    </tr>\n",
       "    <tr>\n",
       "      <th>1</th>\n",
       "      <td>1.0</td>\n",
       "      <td>1422.97</td>\n",
       "      <td>2018-04-30 00:00:00.000</td>\n",
       "      <td>1422.97</td>\n",
       "      <td>75</td>\n",
       "      <td>NaN</td>\n",
       "      <td>NaN</td>\n",
       "      <td>NaN</td>\n",
       "      <td>NaN</td>\n",
       "      <td>NaN</td>\n",
       "      <td>...</td>\n",
       "      <td>70128</td>\n",
       "      <td>B</td>\n",
       "      <td>622</td>\n",
       "      <td>O</td>\n",
       "      <td>S</td>\n",
       "      <td>2.0</td>\n",
       "      <td>Beacon 600-649</td>\n",
       "      <td>17.49</td>\n",
       "      <td>0.0</td>\n",
       "      <td>17.49</td>\n",
       "    </tr>\n",
       "    <tr>\n",
       "      <th>2</th>\n",
       "      <td>1.0</td>\n",
       "      <td>2345.69</td>\n",
       "      <td>2018-03-30 00:00:00.000</td>\n",
       "      <td>2345.69</td>\n",
       "      <td>1</td>\n",
       "      <td>34303.0</td>\n",
       "      <td>7188.0</td>\n",
       "      <td>8173</td>\n",
       "      <td>63788.0</td>\n",
       "      <td>NaN</td>\n",
       "      <td>...</td>\n",
       "      <td>70816</td>\n",
       "      <td>C</td>\n",
       "      <td>595</td>\n",
       "      <td>R</td>\n",
       "      <td>S</td>\n",
       "      <td>2.0</td>\n",
       "      <td>Beacon 300-599</td>\n",
       "      <td>0.00</td>\n",
       "      <td>0.0</td>\n",
       "      <td>0.00</td>\n",
       "    </tr>\n",
       "    <tr>\n",
       "      <th>3</th>\n",
       "      <td>1.0</td>\n",
       "      <td>1422.97</td>\n",
       "      <td>2018-04-30 00:00:00.000</td>\n",
       "      <td>1422.97</td>\n",
       "      <td>1</td>\n",
       "      <td>34385.0</td>\n",
       "      <td>7253.0</td>\n",
       "      <td>8236</td>\n",
       "      <td>63870.0</td>\n",
       "      <td>NaN</td>\n",
       "      <td>...</td>\n",
       "      <td>70802</td>\n",
       "      <td>B</td>\n",
       "      <td>619</td>\n",
       "      <td>R</td>\n",
       "      <td>S</td>\n",
       "      <td>2.0</td>\n",
       "      <td>Beacon 600-649</td>\n",
       "      <td>9.00</td>\n",
       "      <td>0.0</td>\n",
       "      <td>9.00</td>\n",
       "    </tr>\n",
       "    <tr>\n",
       "      <th>4</th>\n",
       "      <td>1.0</td>\n",
       "      <td>1306.47</td>\n",
       "      <td>2018-04-30 00:00:00.000</td>\n",
       "      <td>1306.47</td>\n",
       "      <td>6</td>\n",
       "      <td>55006.0</td>\n",
       "      <td>19484.0</td>\n",
       "      <td>78341</td>\n",
       "      <td>79985.0</td>\n",
       "      <td>NaN</td>\n",
       "      <td>...</td>\n",
       "      <td>39501</td>\n",
       "      <td>C</td>\n",
       "      <td>595</td>\n",
       "      <td>R</td>\n",
       "      <td>S</td>\n",
       "      <td>2.0</td>\n",
       "      <td>Beacon 300-599</td>\n",
       "      <td>4.48</td>\n",
       "      <td>0.0</td>\n",
       "      <td>4.48</td>\n",
       "    </tr>\n",
       "  </tbody>\n",
       "</table>\n",
       "<p>5 rows × 22 columns</p>\n",
       "</div>"
      ],
      "text/plain": [
       "   cashed  casheddollars                issuedate  amountfinanced  branchid  \\\n",
       "0     1.0        5055.95  2018-03-30 00:00:00.000         5055.95       103   \n",
       "1     1.0        1422.97  2018-04-30 00:00:00.000         1422.97        75   \n",
       "2     1.0        2345.69  2018-03-30 00:00:00.000         2345.69         1   \n",
       "3     1.0        1422.97  2018-04-30 00:00:00.000         1422.97         1   \n",
       "4     1.0        1306.47  2018-04-30 00:00:00.000         1306.47         6   \n",
       "\n",
       "   contrid  namesid    newacct  newcontr  account   ...   zipcode grade  \\\n",
       "0      NaN      NaN        NaN       NaN      NaN   ...     39759     A   \n",
       "1      NaN      NaN        NaN       NaN      NaN   ...     70128     B   \n",
       "2  34303.0   7188.0  8173        63788.0      NaN   ...     70816     C   \n",
       "3  34385.0   7253.0  8236        63870.0      NaN   ...     70802     B   \n",
       "4  55006.0  19484.0  78341       79985.0      NaN   ...     39501     C   \n",
       "\n",
       "   beacon ownorrent  singleorjoint modeltier    beaconbucket  originalbr  \\\n",
       "0     678         O              J       0.5  Beacon 650-699        0.00   \n",
       "1     622         O              S       2.0  Beacon 600-649       17.49   \n",
       "2     595         R              S       2.0  Beacon 300-599        0.00   \n",
       "3     619         R              S       2.0  Beacon 600-649        9.00   \n",
       "4     595         R              S       2.0  Beacon 300-599        4.48   \n",
       "\n",
       "  newdist  distbr  \n",
       "0     0.0    0.00  \n",
       "1     0.0   17.49  \n",
       "2     0.0    0.00  \n",
       "3     0.0    9.00  \n",
       "4     0.0    4.48  \n",
       "\n",
       "[5 rows x 22 columns]"
      ]
     },
     "execution_count": 20,
     "metadata": {},
     "output_type": "execute_result"
    }
   ],
   "source": [
    "# Load pulled data\n",
    "fixeddist = pd.read_csv(\"./Data/fixed_dist_19june.csv\")\n",
    "\n",
    "# Keep relevant columns & rename\n",
    "fixeddist = fixeddist[['branchid', \n",
    "                       'zipcode', \n",
    "                       'distbr']].rename(columns = {'distbr': 'newdist'})\n",
    "\n",
    "# Left join new distances\n",
    "# Fill in 0 for all the accurate fields we didn't API call for\n",
    "trunc = pd.merge(trunc, \n",
    "                 fixeddist, \n",
    "                 how = 'left', \n",
    "                 on = ['branchid', 'zipcode'])\n",
    "trunc.newdist = trunc.newdist.fillna(0)\n",
    "\n",
    "# Rename old column to 'original br'\n",
    "trunc.rename(columns = {'distbr': 'originalbr'}, inplace = True)\n",
    "\n",
    "# Create new 'distbr' column based on sum of original and new distances \n",
    "trunc = trunc.assign(distbr = trunc.originalbr + trunc.newdist)\n",
    "trunc.head()"
   ]
  },
  {
   "cell_type": "markdown",
   "metadata": {},
   "source": [
    "## 3. Bucket Distances"
   ]
  },
  {
   "cell_type": "code",
   "execution_count": 21,
   "metadata": {},
   "outputs": [
    {
     "data": {
      "text/html": [
       "<div>\n",
       "<style scoped>\n",
       "    .dataframe tbody tr th:only-of-type {\n",
       "        vertical-align: middle;\n",
       "    }\n",
       "\n",
       "    .dataframe tbody tr th {\n",
       "        vertical-align: top;\n",
       "    }\n",
       "\n",
       "    .dataframe thead th {\n",
       "        text-align: right;\n",
       "    }\n",
       "</style>\n",
       "<table border=\"1\" class=\"dataframe\">\n",
       "  <thead>\n",
       "    <tr style=\"text-align: right;\">\n",
       "      <th></th>\n",
       "      <th>distbucket</th>\n",
       "      <th>0</th>\n",
       "    </tr>\n",
       "  </thead>\n",
       "  <tbody>\n",
       "    <tr>\n",
       "      <th>0</th>\n",
       "      <td>5</td>\n",
       "      <td>3998066</td>\n",
       "    </tr>\n",
       "    <tr>\n",
       "      <th>1</th>\n",
       "      <td>10</td>\n",
       "      <td>4629121</td>\n",
       "    </tr>\n",
       "    <tr>\n",
       "      <th>2</th>\n",
       "      <td>15</td>\n",
       "      <td>2939302</td>\n",
       "    </tr>\n",
       "    <tr>\n",
       "      <th>3</th>\n",
       "      <td>20</td>\n",
       "      <td>1459436</td>\n",
       "    </tr>\n",
       "    <tr>\n",
       "      <th>4</th>\n",
       "      <td>25</td>\n",
       "      <td>748160</td>\n",
       "    </tr>\n",
       "    <tr>\n",
       "      <th>5</th>\n",
       "      <td>30</td>\n",
       "      <td>568647</td>\n",
       "    </tr>\n",
       "    <tr>\n",
       "      <th>6</th>\n",
       "      <td>60</td>\n",
       "      <td>187271</td>\n",
       "    </tr>\n",
       "  </tbody>\n",
       "</table>\n",
       "</div>"
      ],
      "text/plain": [
       "  distbucket        0\n",
       "0          5  3998066\n",
       "1         10  4629121\n",
       "2         15  2939302\n",
       "3         20  1459436\n",
       "4         25   748160\n",
       "5         30   568647\n",
       "6         60   187271"
      ]
     },
     "execution_count": 21,
     "metadata": {},
     "output_type": "execute_result"
    }
   ],
   "source": [
    "trunc = trunc.assign(distbucket = pd.cut(trunc.distbr, \n",
    "                                    bins = [-1,5,10,15,20,25,30,60],\n",
    "                                    labels = [5,10,15,20,25,30,60]))\n",
    "trunc.groupby('distbucket').size().reset_index()"
   ]
  },
  {
   "cell_type": "markdown",
   "metadata": {},
   "source": [
    "## 4. Export dataframe for future use\n",
    "**Last exported**: 28 June"
   ]
  },
  {
   "cell_type": "code",
   "execution_count": null,
   "metadata": {},
   "outputs": [],
   "source": [
    "#trunc.to_csv(\"./Data.rf_2017_modeltiers_lcs_trunc_28june.csv\")"
   ]
  }
 ],
 "metadata": {
  "kernelspec": {
   "display_name": "Python 3",
   "language": "python",
   "name": "python3"
  },
  "language_info": {
   "codemirror_mode": {
    "name": "ipython",
    "version": 3
   },
   "file_extension": ".py",
   "mimetype": "text/x-python",
   "name": "python",
   "nbconvert_exporter": "python",
   "pygments_lexer": "ipython3",
   "version": "3.6.5"
  }
 },
 "nbformat": 4,
 "nbformat_minor": 2
}
